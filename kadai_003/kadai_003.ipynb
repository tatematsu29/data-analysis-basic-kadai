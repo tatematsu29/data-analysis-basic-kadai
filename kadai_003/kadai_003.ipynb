#Numpyのインポート
import numpy as np

#A,Bの定義
A = np.arange(6).reshape(3,2)
B = np.arange(8).reshape(2,4)

#行列の積
C = np.dot(A,B)

#結果の表示
print(C)

#最大値
Max = np.max(C)
Max
