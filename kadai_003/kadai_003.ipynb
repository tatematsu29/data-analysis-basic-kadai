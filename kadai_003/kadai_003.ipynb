{
  "nbformat": 4,
  "nbformat_minor": 0,
  "metadata": {
    "colab": {
      "provenance": []
    },
    "kernelspec": {
      "name": "python3",
      "display_name": "Python 3"
    },
    "language_info": {
      "name": "python"
    }
  },
  "cells": [
    {
      "cell_type": "code",
      "source": [
        "#Numpyのインポート\n",
        "import numpy as np\n",
        "\n",
        "#A,Bの定義\n",
        "A = np.arange(6).reshape(3,2)\n",
        "B = np.arange(8).reshape(2,4)\n",
        "\n",
        "#行列の積\n",
        "C = np.dot(A,B)\n",
        "\n",
        "#結果の表示\n",
        "print(C)\n",
        "\n",
        "#最大値\n",
        "Max = np.max(C)\n",
        "Max"
      ],
      "metadata": {
        "colab": {
          "base_uri": "https://localhost:8080/"
        },
        "id": "efnRX8XGYT23",
        "outputId": "f91ef286-380b-4534-d316-054634c9c632"
      },
      "execution_count": null,
      "outputs": [
        {
          "output_type": "stream",
          "name": "stdout",
          "text": [
            "[[ 4  5  6  7]\n",
            " [12 17 22 27]\n",
            " [20 29 38 47]]\n"
          ]
        },
        {
          "output_type": "execute_result",
          "data": {
            "text/plain": [
              "47"
            ]
          },
          "metadata": {},
          "execution_count": 93
        }
      ]
    }
  ]
}